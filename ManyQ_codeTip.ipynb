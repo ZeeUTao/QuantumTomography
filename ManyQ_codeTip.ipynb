{
 "cells": [
  {
   "cell_type": "markdown",
   "metadata": {},
   "source": [
    "## Example 1: M level N qubit IQ classification"
   ]
  },
  {
   "cell_type": "markdown",
   "metadata": {},
   "source": [
    "### M level one qubit case\n",
    "We define the tunneling function for one qubit, i.e., for a new point $x = (I,Q)$, and old averaged caliberated point $x_n = (I_n,Q_n)$ correspoing to state $|\\psi_n\\rangle = |0\\rangle,|1\\rangle \\cdots |M-1\\rangle$, then we classify it as state $|\\psi_a\\rangle$ if $|x-x_a| = Min(|x-x_n|)$ "
   ]
  },
  {
   "cell_type": "markdown",
   "metadata": {},
   "source": [
    "```python\n",
    "def get_meas(data0,q,Nq = level):\n",
    "    #data[0][x]   qubits[x]   x == 0,1,2,3\n",
    "    # if measure 1 then return 1\n",
    "    Is = np.asarray(data0[0])\n",
    "    Qs = np.asarray(data0[1])    \n",
    "    sigs = Is + 1j*Qs\n",
    "\n",
    "    total = len(Is)\n",
    "    distance = np.zeros((total,Nq))\n",
    "    for i in np.arange(Nq):\n",
    "        center_i = q['center|'+str(i)+'>'][0] + 1j*q['center|'+str(i)+'>'][1]\n",
    "        distance_i = np.abs(sigs - center_i)\n",
    "        distance[:,i]=  distance_i\n",
    "\n",
    "    tunnels = np.zeros((total,))\n",
    "    for i in np.arange(total):\n",
    "        distancei = distance[i]\n",
    "        tunneli = np.int(np.where(distancei == np.min(distancei))[0])\n",
    "        tunnels[i] = tunneli \n",
    "    return tunnels\n",
    "```"
   ]
  },
  {
   "cell_type": "markdown",
   "metadata": {},
   "source": [
    "### It acts like"
   ]
  },
  {
   "cell_type": "code",
   "execution_count": 43,
   "metadata": {},
   "outputs": [
    {
     "data": {
      "image/png": "[encoded data removed]",
      "text/plain": [
       "<Figure size 432x288 with 1 Axes>"
      ]
     },
     "metadata": {
      "needs_background": "light"
     },
     "output_type": "display_data"
    }
   ],
   "source": [
    "import numpy as np\n",
    "import matplotlib.pyplot as plt\n",
    "\n",
    "%matplotlib inline\n",
    "mids_i,mids_q = [0,2,1],[0,0,2]\n",
    "ks,r = np.linspace(0,2,30)*np.pi,0.8\n",
    "colors = ['b','r','g']\n",
    "label = [r'$|0\\rangle$',r'$|1\\rangle$',r'$|2\\rangle$']\n",
    "for i in np.arange(3):\n",
    "    plt.fill(r*np.cos(ks)+mids_i[i] , r*np.sin(ks)+mids_q[i]\n",
    "             ,color=colors[i],alpha = 0.3)  \n",
    "    plt.text(mids_i[i],mids_q[i],label[i],fontsize = 18,color = colors[i])\n",
    "    plt.axis('off')\n",
    "    \n",
    "\n",
    "\n"
   ]
  },
  {
   "cell_type": "markdown",
   "metadata": {},
   "source": [
    "### M level N qubit case"
   ]
  },
  {
   "cell_type": "markdown",
   "metadata": {},
   "source": [
    "```python\n",
    "qNum = len(qubits)\n",
    "# The length of raw data is counts_num\n",
    "binary_count = np.zeros((counts_num),dtype = float)\n",
    "\n",
    "for i in np.arange(qNum):\n",
    "    ## define qNum - 1-i for the writing order : q1,q2,q3...\n",
    "    binary_count += get_meas(data[0][i],qubits[qNum - 1-i]) * (level**i)\n",
    "        \n",
    "res_store = np.zeros((level**qNum))\n",
    "for i in np.arange(level**qNum):\n",
    "    res_store[i] = np.sum(binary_count == i) \n",
    "\n",
    "prob = res_store/counts_num\n",
    "\n",
    "\n",
    "```"
   ]
  },
  {
   "cell_type": "markdown",
   "metadata": {},
   "source": [
    "### raw Code for IQ classification"
   ]
  },
  {
   "cell_type": "markdown",
   "metadata": {},
   "source": [
    "```python\n",
    "def tunnelingNlevelQ_peach(qubits, data,level = 3,qNum = 1):\n",
    "    ## generated to N qubit and multi level 20190618 -- ZiyuTao\n",
    "    qNum = len(qubits)\n",
    "    counts_num = len(np.asarray(data[0][0][0]))\n",
    "    binary_count = np.zeros((counts_num),dtype = float)\n",
    "\n",
    "    def get_meas(data0,q,Nq = level):\n",
    "        #data[0][x]   qubits[x]   x == 0,1,2,3\n",
    "        # if measure 1 then return 1\n",
    "        Is = np.asarray(data0[0])\n",
    "        Qs = np.asarray(data0[1])    \n",
    "        sigs = Is + 1j*Qs\n",
    "        \n",
    "        total = len(Is)\n",
    "        distance = np.zeros((total,Nq))\n",
    "        for i in np.arange(Nq):\n",
    "            center_i = q['center|'+str(i)+'>'][0] + 1j*q['center|'+str(i)+'>'][1]\n",
    "            distance_i = np.abs(sigs - center_i)\n",
    "            distance[:,i]=  distance_i\n",
    "        \n",
    "        tunnels = np.zeros((total,))\n",
    "        for i in np.arange(total):\n",
    "            distancei = distance[i]\n",
    "            tunneli = np.int(np.where(distancei == np.min(distancei))[0])\n",
    "            tunnels[i] = tunneli \n",
    "        return tunnels\n",
    "\n",
    "    for i in np.arange(qNum):\n",
    "        binary_count += get_meas(data[0][i],qubits[i]) * (level**i)\n",
    "        \n",
    "\n",
    "    res_store = np.zeros((level**qNum))\n",
    "    for i in np.arange(level**qNum):\n",
    "        res_store[i] = np.sum(binary_count == i) \n",
    "        \n",
    "    prob = res_store/counts_num\n",
    "    return prob\n",
    "\n",
    "```"
   ]
  },
  {
   "cell_type": "markdown",
   "metadata": {},
   "source": [
    "## Example 2: N qubit state tomography\n",
    "\n",
    "We need $3^N$ operations $\\{I,X_{\\pi/2},Y_{\\pi/2}\\}^{\\otimes N}$ which generally acting on N qubits $(q_1,q_2,q_3 \\cdots)$, so we need two loops."
   ]
  },
  {
   "cell_type": "markdown",
   "metadata": {},
   "source": [
    "```python\n",
    "#!/usr/bin/env python3\n",
    "for tomo_idx in range(3**N):\n",
    "    for q_idx in range(N):\n",
    "        q_tomo = qlist[N-1-q_idx]\n",
    "        gate_idx = (tomo_idx//(3**(q_idx+1)))%(3**(q_idx)\n",
    "        q_tomo.add_gate(gates[gate_idx])\n",
    "```"
   ]
  },
  {
   "cell_type": "markdown",
   "metadata": {},
   "source": [
    "### Mathtips: \n",
    "it transforms tomo_idx into **3-digit** where the n-th digit represents an operation, e.g. \"0212\" correspond \n",
    "    to the operations $I \\otimes Y/2 \\otimes X/2 \\otimes Y/2$.\n",
    "\n",
    "### Others: \n",
    "- qlist[N-1-q_idx] is set as we prefer denote qlist as (q1,q2,q3) and the digit system is from right to left.\n",
    "\n",
    "- the quantum operation usually definied by a two-tuple, ($\\theta$,$\\phi$), so we can define as following"
   ]
  },
  {
   "cell_type": "markdown",
   "metadata": {},
   "source": [
    "```python\n",
    "thetas = [0,np.pi/2,np.pi/2]\n",
    "phis = [0,0,np.pi/2]\n",
    "## gate_idx == 0,1,2\n",
    "gate_tomo = get_gate(thetas[gate_idx],phis[gate_idx])\n",
    "```"
   ]
  }
 ],
 "metadata": {
  "kernelspec": {
   "display_name": "Python 3",
   "language": "python",
   "name": "python3"
  },
  "language_info": {
   "codemirror_mode": {
    "name": "ipython",
    "version": 3
   },
   "file_extension": ".py",
   "mimetype": "text/x-python",
   "name": "python",
   "nbconvert_exporter": "python",
   "pygments_lexer": "ipython3",
   "version": "3.6.4"
  }
 },
 "nbformat": 4,
 "nbformat_minor": 2
}
